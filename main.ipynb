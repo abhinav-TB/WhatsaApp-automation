{
 "cells": [
  {
   "cell_type": "code",
   "execution_count": null,
   "metadata": {},
   "outputs": [],
   "source": [
    "from selenium import webdriver"
   ]
  },
  {
   "cell_type": "code",
   "execution_count": null,
   "metadata": {},
   "outputs": [],
   "source": [
    "browser=webdriver.Chrome('./chromedriver')"
   ]
  },
  {
   "cell_type": "markdown",
   "metadata": {},
   "source": [
    "# sending messages to target"
   ]
  },
  {
   "cell_type": "code",
   "execution_count": 4,
   "metadata": {},
   "outputs": [],
   "source": [
    "from selenium import webdriver\n",
    "from selenium.webdriver.support import expected_conditions as ec \n",
    "from selenium.webdriver.support.ui import WebDriverWait\n",
    "from selenium.webdriver.common.keys import Keys\n",
    "from selenium.webdriver.common.by import By\n",
    "import time"
   ]
  },
  {
   "cell_type": "code",
   "execution_count": 8,
   "metadata": {},
   "outputs": [],
   "source": [
    "browser=webdriver.Chrome('./chromedriver')\n",
    "browser.get(\"https://web.whatsapp.com/\")\n",
    "wait=WebDriverWait(browser,600)\n",
    "target='\"Abhinav\"'\n",
    "string=\"message from bot\"\n",
    "X_arg ='//span[contains(@title, '+target+')]'\n",
    "target=wait.until(ec.presence_of_element_located((By.XPATH,X_arg)))\n",
    "target.click()"
   ]
  },
  {
   "cell_type": "code",
   "execution_count": null,
   "metadata": {},
   "outputs": [],
   "source": [
    "target='\"Abhinav\"'\n",
    "string=\"message from bot\"\n",
    "X_arg ='//span[contains(@title,'+target+')]'\n",
    "target=wait.until(ec.presence_of_element_located((By.XPATH,X_arg)))\n",
    "target.click()"
   ]
  },
  {
   "cell_type": "code",
   "execution_count": 15,
   "metadata": {},
   "outputs": [],
   "source": [
    "input_box=browser.find_element_by_class_name('_1Plpp')\n",
    "\n",
    "for i in range(5):\n",
    "    input_box.send_keys(string+Keys.ENTER)\n",
    "\n"
   ]
  },
  {
   "cell_type": "code",
   "execution_count": null,
   "metadata": {},
   "outputs": [],
   "source": []
  }
 ],
 "metadata": {
  "language_info": {
   "codemirror_mode": {
    "name": "ipython",
    "version": 3
   },
   "file_extension": ".py",
   "mimetype": "text/x-python",
   "name": "python",
   "nbconvert_exporter": "python",
   "pygments_lexer": "ipython3",
   "version": "3.7.6-final"
  },
  "orig_nbformat": 2,
  "kernelspec": {
   "name": "python37664bit69b383f37b4847e192d343ba910e7aae",
   "display_name": "Python 3.7.6 64-bit"
  }
 },
 "nbformat": 4,
 "nbformat_minor": 2
}